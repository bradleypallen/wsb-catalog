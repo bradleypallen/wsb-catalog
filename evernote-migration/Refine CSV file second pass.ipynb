{
 "cells": [
  {
   "cell_type": "code",
   "execution_count": 161,
   "metadata": {
    "collapsed": true
   },
   "outputs": [],
   "source": [
    "import bs4, urllib, re, pandas as pd, numpy as np"
   ]
  },
  {
   "cell_type": "code",
   "execution_count": 182,
   "metadata": {
    "collapsed": false
   },
   "outputs": [],
   "source": [
    "collection = pd.read_csv('wsb_catalog_v4.csv', dtype=str)"
   ]
  },
  {
   "cell_type": "code",
   "execution_count": 183,
   "metadata": {
    "collapsed": false
   },
   "outputs": [],
   "source": [
    "def pad_schottlaender_code(code):\n",
    "    p = re.compile('^([A-Z])(\\d+)(.*)$')\n",
    "    m = p.match(code)\n",
    "    if m is not None:\n",
    "        g = m.group(1,2,3)\n",
    "        padded_code ='{}{:04d}{}'.format(g[0], int(g[1]), g[2])\n",
    "        return padded_code\n",
    "    else:\n",
    "        return ''"
   ]
  },
  {
   "cell_type": "code",
   "execution_count": 184,
   "metadata": {
    "collapsed": false
   },
   "outputs": [],
   "source": [
    "collection[\"Publisher\"] = collection.Description.str.extract(r'^(.+), \\d\\d\\d\\d\\. ', expand=True)\n",
    "collection[\"Description\"] = collection.Description.str.replace(r'^.+, \\d\\d\\d\\d\\. ', '')\n",
    "collection[\"Description\"] = collection[\"Description\"].str.strip()\n",
    "collection[\"SchottlaenderPadded\"] = collection[\"Schottlaender v4.0\"].astype('str').apply(lambda x: pad_schottlaender_code(x))"
   ]
  },
  {
   "cell_type": "code",
   "execution_count": 185,
   "metadata": {
    "collapsed": false
   },
   "outputs": [],
   "source": [
    "collection = collection.sort_values(by=['Year', 'SchottlaenderPadded'])"
   ]
  },
  {
   "cell_type": "code",
   "execution_count": 186,
   "metadata": {
    "collapsed": false
   },
   "outputs": [],
   "source": [
    "collection = collection[['Schottlaender v4.0', 'Title', 'Publisher', 'Year', 'Description', 'Maynard and Miles', 'Image']]"
   ]
  },
  {
   "cell_type": "code",
   "execution_count": 187,
   "metadata": {
    "collapsed": true
   },
   "outputs": [],
   "source": [
    "collection.to_csv('wsb_catalog_v5.csv', index=False)"
   ]
  }
 ],
 "metadata": {
  "kernelspec": {
   "display_name": "Python [default]",
   "language": "python",
   "name": "python2"
  },
  "language_info": {
   "codemirror_mode": {
    "name": "ipython",
    "version": 2
   },
   "file_extension": ".py",
   "mimetype": "text/x-python",
   "name": "python",
   "nbconvert_exporter": "python",
   "pygments_lexer": "ipython2",
   "version": "2.7.13"
  }
 },
 "nbformat": 4,
 "nbformat_minor": 2
}
