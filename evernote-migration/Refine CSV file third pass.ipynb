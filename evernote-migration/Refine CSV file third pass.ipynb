{
 "cells": [
  {
   "cell_type": "code",
   "execution_count": 79,
   "metadata": {
    "collapsed": false
   },
   "outputs": [],
   "source": [
    "import bs4, urllib, re, pandas as pd, numpy as np\n",
    "from slugify import slugify"
   ]
  },
  {
   "cell_type": "code",
   "execution_count": 80,
   "metadata": {
    "collapsed": false
   },
   "outputs": [],
   "source": [
    "collection = pd.read_csv('wsb_catalog_v6.csv', dtype=str)"
   ]
  },
  {
   "cell_type": "code",
   "execution_count": 81,
   "metadata": {
    "collapsed": false
   },
   "outputs": [],
   "source": [
    "id_set = set()\n",
    "titles = collection['Title'].tolist()\n",
    "ids = []\n",
    "for title in titles:\n",
    "    i = 1\n",
    "    slug = slugify('{:.30}'.format(title))\n",
    "    id = '{}-{:d}'.format(slug, i)\n",
    "    while id in id_set:\n",
    "        i += 1\n",
    "        id = '{}-{:d}'.format(slug, i)\n",
    "    id_set.add(id)\n",
    "    ids.append(id)\n",
    "collection[\"Id\"] = pd.Series(ids).values"
   ]
  },
  {
   "cell_type": "code",
   "execution_count": 83,
   "metadata": {
    "collapsed": false
   },
   "outputs": [],
   "source": [
    "import shutil\n",
    "evernote_html_export_dir = \"/Users/bradleyallen/Desktop/My Notes - Burroughs Collection/\"\n",
    "dst_dir = '/Users/bradleyallen/Documents/Projects/wsb-catalog/images/'\n",
    "images = collection['Image'].tolist()\n",
    "src_image_files = [ evernote_html_export_dir + urllib.parse.unquote(image) for image in images ]\n",
    "dst_image_files = [ dst_dir + id + '.jpg' for id in ids ]\n",
    "pairs = zip(src_image_files, dst_image_files)\n",
    "for pair in pairs:\n",
    "    shutil.copyfile(pair[0], pair[1])"
   ]
  },
  {
   "cell_type": "code",
   "execution_count": 85,
   "metadata": {
    "collapsed": true
   },
   "outputs": [],
   "source": [
    "collection[['Id', 'Schottlaender v4.0', 'Maynard and Miles', 'Title', 'Publisher', 'Year', 'Description']].to_csv('wsb_catalog_v7.csv', index=False)"
   ]
  },
  {
   "cell_type": "code",
   "execution_count": null,
   "metadata": {
    "collapsed": true
   },
   "outputs": [],
   "source": []
  }
 ],
 "metadata": {
  "kernelspec": {
   "display_name": "Python [conda env:wsbhack]",
   "language": "python",
   "name": "conda-env-wsbhack-py"
  },
  "language_info": {
   "codemirror_mode": {
    "name": "ipython",
    "version": 3
   },
   "file_extension": ".py",
   "mimetype": "text/x-python",
   "name": "python",
   "nbconvert_exporter": "python",
   "pygments_lexer": "ipython3",
   "version": "3.6.2"
  }
 },
 "nbformat": 4,
 "nbformat_minor": 2
}
