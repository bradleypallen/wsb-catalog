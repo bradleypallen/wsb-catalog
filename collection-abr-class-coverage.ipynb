{
 "cells": [
  {
   "cell_type": "code",
   "execution_count": 1,
   "metadata": {},
   "outputs": [],
   "source": [
    "import re, pandas as pd"
   ]
  },
  {
   "cell_type": "code",
   "execution_count": 2,
   "metadata": {},
   "outputs": [],
   "source": [
    "df = pd.read_csv('data/wsb-catalog.csv')"
   ]
  },
  {
   "cell_type": "code",
   "execution_count": 15,
   "metadata": {},
   "outputs": [
    {
     "data": {
      "text/plain": [
       "identifier                                                         bloom-1\n",
       "creator                  John Ka, William S. Burroughs, Gregory Corso, ...\n",
       "title                                                                BLOOM\n",
       "publisher                                 Detroit: Artist's Workshop Press\n",
       "date                                                                  1967\n",
       "bibliographicCitation                                                  NaN\n",
       "description              First edition. Staplebound mimeograph. Per Bri...\n",
       "Name: 67, dtype: object"
      ]
     },
     "execution_count": 15,
     "metadata": {},
     "output_type": "execute_result"
    }
   ],
   "source": [
    "df.iloc[67]"
   ]
  },
  {
   "cell_type": "code",
   "execution_count": 32,
   "metadata": {},
   "outputs": [
    {
     "data": {
      "text/plain": [
       "300"
      ]
     },
     "execution_count": 32,
     "metadata": {},
     "output_type": "execute_result"
    }
   ],
   "source": [
    "len(df)"
   ]
  },
  {
   "cell_type": "code",
   "execution_count": 44,
   "metadata": {},
   "outputs": [
    {
     "data": {
      "text/plain": [
       "270"
      ]
     },
     "execution_count": 44,
     "metadata": {},
     "output_type": "execute_result"
    }
   ],
   "source": [
    "len(df[df['bibliographicCitation'].notnull()])"
   ]
  },
  {
   "cell_type": "code",
   "execution_count": 38,
   "metadata": {},
   "outputs": [],
   "source": [
    "cites = df[df['bibliographicCitation'].notnull()]['bibliographicCitation'].tolist()"
   ]
  },
  {
   "cell_type": "code",
   "execution_count": 39,
   "metadata": {},
   "outputs": [
    {
     "data": {
      "text/plain": [
       "['schottlaender/4.0/A1a, maynard-and-miles/A1a',\n",
       " 'schottlaender/4.0/A1a, maynard-and-miles/A1a',\n",
       " 'schottlaender/4.0/A1b, maynard-and-miles/A1b',\n",
       " 'schottlaender/4.0/C3, maynard-and-miles/C1b',\n",
       " 'schottlaender/4.0/C5, maynard-and-miles/C5',\n",
       " 'schottlaender/4.0/A2a, maynard-and-miles/A2a',\n",
       " 'schottlaender/4.0/C7, maynard-and-miles/C6',\n",
       " 'schottlaender/4.0/C8, maynard-and-miles/C7',\n",
       " 'schottlaender/4.0/A3a, maynard-and-miles/A4a',\n",
       " 'schottlaender/4.0/A3a, maynard-and-miles/A4a']"
      ]
     },
     "execution_count": 39,
     "metadata": {},
     "output_type": "execute_result"
    }
   ],
   "source": [
    "cites[:10]"
   ]
  },
  {
   "cell_type": "code",
   "execution_count": 40,
   "metadata": {},
   "outputs": [],
   "source": [
    "classes = set()\n",
    "for i, cite in enumerate(cites):\n",
    "    if cite != 'nan':\n",
    "        for m in re.finditer('schottlaender/4.0/(.)', cite):\n",
    "            classes.add(m.group(1))"
   ]
  },
  {
   "cell_type": "code",
   "execution_count": 41,
   "metadata": {},
   "outputs": [
    {
     "data": {
      "text/plain": [
       "{'A', 'B', 'C', 'D', 'E', 'F', 'G', 'H', 'I'}"
      ]
     },
     "execution_count": 41,
     "metadata": {},
     "output_type": "execute_result"
    }
   ],
   "source": [
    "classes"
   ]
  },
  {
   "cell_type": "code",
   "execution_count": 45,
   "metadata": {},
   "outputs": [],
   "source": [
    "nocites = df[df['bibliographicCitation'].isnull()]['title'].tolist()"
   ]
  },
  {
   "cell_type": "code",
   "execution_count": 46,
   "metadata": {},
   "outputs": [
    {
     "data": {
      "text/plain": [
       "30"
      ]
     },
     "execution_count": 46,
     "metadata": {},
     "output_type": "execute_result"
    }
   ],
   "source": [
    "len(nocites)"
   ]
  },
  {
   "cell_type": "code",
   "execution_count": 47,
   "metadata": {},
   "outputs": [
    {
     "data": {
      "text/plain": [
       "['BLOOM',\n",
       " 'Proposed Layout For WSB Archive Description',\n",
       " 'William Burroughs Archive Contract',\n",
       " 'William Burroughs Archive - Flyer',\n",
       " 'Jean Genet in Tangier',\n",
       " 'Electric Banana',\n",
       " 'Le Colloque de Tanger - Autograph Letters',\n",
       " 'Submission',\n",
       " 'The Evening Sun Turned Crimson',\n",
       " '\"to talk for Joe the Dead\" - Typescript',\n",
       " 'RE/Search 8/9',\n",
       " 'Bastard',\n",
       " 'Kerouac & Friends - A Beat Generation Album',\n",
       " 'Mindfield',\n",
       " 'Literary Vision',\n",
       " 'Portrait of Burroughs',\n",
       " 'The Atrocity Exhibition',\n",
       " 'Paper Roses on the Prefabricated Heart',\n",
       " 'Earl McGrath Gallery: List of Works',\n",
       " 'The Drug User: Documents 1840 - 1960',\n",
       " 'X-Ray Man',\n",
       " \"The Junky's Christmas And Other Yuletide Stories\",\n",
       " 'Venus Bound: The Erotic Voyage of the Olympia Press and Its Writers.',\n",
       " 'The Beat Book',\n",
       " 'Paradise Outlaws',\n",
       " 'Brion Gysin Tuning in to the Multimedia Age',\n",
       " 'Le Temps des Assassins',\n",
       " 'Brion Gysin: Dream Machine',\n",
       " 'Mentored By A Madman: The William Burroughs Experiment',\n",
       " \"Dinner at Pat's A Conversation With W.S. Burroughs\"]"
      ]
     },
     "execution_count": 47,
     "metadata": {},
     "output_type": "execute_result"
    }
   ],
   "source": [
    "nocites"
   ]
  },
  {
   "cell_type": "code",
   "execution_count": null,
   "metadata": {},
   "outputs": [],
   "source": []
  }
 ],
 "metadata": {
  "kernelspec": {
   "display_name": "Python 3",
   "language": "python",
   "name": "python3"
  },
  "language_info": {
   "codemirror_mode": {
    "name": "ipython",
    "version": 3
   },
   "file_extension": ".py",
   "mimetype": "text/x-python",
   "name": "python",
   "nbconvert_exporter": "python",
   "pygments_lexer": "ipython3",
   "version": "3.7.2"
  }
 },
 "nbformat": 4,
 "nbformat_minor": 2
}
