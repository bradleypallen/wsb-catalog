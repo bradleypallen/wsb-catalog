{
 "cells": [
  {
   "cell_type": "code",
   "execution_count": 2,
   "metadata": {},
   "outputs": [],
   "source": [
    "import wsbcatalog, rdflib\n",
    "import numpy as np, pandas as pd, rdflib, re, collections\n",
    "from rdflib.namespace import RDF, RDFS\n",
    "from rdflib import URIRef, BNode, Literal"
   ]
  },
  {
   "cell_type": "code",
   "execution_count": 3,
   "metadata": {},
   "outputs": [],
   "source": [
    "catalog = wsbcatalog.WSBCatalog()"
   ]
  },
  {
   "cell_type": "code",
   "execution_count": 4,
   "metadata": {},
   "outputs": [],
   "source": [
    "raw_items = catalog.get_items()[['identifier', 'bibliographicCitation', 'description', 'image', 'thumbnail']]"
   ]
  },
  {
   "cell_type": "code",
   "execution_count": 5,
   "metadata": {},
   "outputs": [
    {
     "name": "stderr",
     "output_type": "stream",
     "text": [
      "/Users/bradleyallen/anaconda3/envs/wsbcat/lib/python3.7/site-packages/ipykernel_launcher.py:1: SettingWithCopyWarning: \n",
      "A value is trying to be set on a copy of a slice from a DataFrame.\n",
      "Try using .loc[row_indexer,col_indexer] = value instead\n",
      "\n",
      "See the caveats in the documentation: http://pandas.pydata.org/pandas-docs/stable/indexing.html#indexing-view-versus-copy\n",
      "  \"\"\"Entry point for launching an IPython kernel.\n"
     ]
    }
   ],
   "source": [
    "raw_items['itemOf'] = raw_items['bibliographicCitation'].str.split(', ')"
   ]
  },
  {
   "cell_type": "code",
   "execution_count": 6,
   "metadata": {},
   "outputs": [],
   "source": [
    "items = raw_items[['identifier', 'itemOf', 'description', 'image', 'thumbnail']].to_dict('records')"
   ]
  },
  {
   "cell_type": "code",
   "execution_count": 7,
   "metadata": {},
   "outputs": [],
   "source": [
    "abri = rdflib.Namespace(\"https://wsburroughs.link/anything-but-routine/4.0/instance/\")\n",
    "abrw = rdflib.Namespace(\"https://wsburroughs.link/anything-but-routine/4.0/work/\")\n",
    "bf = rdflib.Namespace(\"http://id.loc.gov/ontologies/bibframe/\")\n",
    "arm = rdflib.Namespace(\"https://w3id.org/arm/core/ontology/0.1/\")\n",
    "bpacol = rdflib.Namespace(\"https://wsburroughs.link/bradleypallen/item/\")"
   ]
  },
  {
   "cell_type": "code",
   "execution_count": 8,
   "metadata": {},
   "outputs": [],
   "source": [
    "def initialize_abr_graph():\n",
    "    g = rdflib.Graph()\n",
    "    g.bind(\"abri\", \"https://wsburroughs.link/anything-but-routine/4.0/instance/\")\n",
    "    g.bind(\"abrw\", \"https://wsburroughs.link/anything-but-routine/4.0/work/\")\n",
    "    g.bind(\"bf\", \"http://id.loc.gov/ontologies/bibframe/\")\n",
    "    g.bind(\"arm\", \"https://w3id.org/arm/core/ontology/0.1/\")\n",
    "    g.bind(\"bpacol\", \"https://wsburroughs.link/bradleypallen/item/\")\n",
    "    return g"
   ]
  },
  {
   "cell_type": "markdown",
   "metadata": {},
   "source": [
    "### Items"
   ]
  },
  {
   "cell_type": "code",
   "execution_count": 16,
   "metadata": {},
   "outputs": [],
   "source": [
    "for item in items:\n",
    "    g = initialize_abr_graph()\n",
    "    name = item['identifier']\n",
    "    id = bpacol[name]\n",
    "    g.add((id, RDF.type, bf.Item))\n",
    "    g.add((id, RDF.type, bf.Text))\n",
    "    # bf:heldBy\n",
    "    bpa = BNode()\n",
    "    g.add((id, bf.heldBy, bpa))\n",
    "    g.add((bpa, RDF.type, bf.Agent))\n",
    "    g.add((bpa, RDF.type, bf.Person)) \n",
    "    g.add((bpa, bf.role, Literal(\"collector\")))\n",
    "    g.add((bpa, RDFS.label, Literal(\"Bradley P. Allen\")))\n",
    "    # bf:note\n",
    "    # todo: parse description for arm:LimitationNote, etc.\n",
    "    note = BNode()\n",
    "    g.add((id, bf.note, note))\n",
    "    g.add((note, RDF.type, bf.Note))\n",
    "    g.add((note, RDF.type, arm.SubjectNote))\n",
    "    g.add((note, RDF.value, Literal(item['description'])))\n",
    "    # bf:itemOf\n",
    "    for inst in item['itemOf']:\n",
    "        if re.match('schottlaender', inst):\n",
    "            g.add((id, bf.itemOf, abri[inst.split('/')[-1]]))\n",
    "    g.serialize(f\"item/{name}.ttl\", format='turtle')"
   ]
  }
 ],
 "metadata": {
  "kernelspec": {
   "display_name": "Python 3",
   "language": "python",
   "name": "python3"
  }
 },
 "nbformat": 4,
 "nbformat_minor": 2
}
