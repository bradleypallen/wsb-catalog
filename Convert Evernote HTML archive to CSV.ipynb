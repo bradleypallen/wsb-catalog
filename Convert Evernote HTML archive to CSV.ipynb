{
 "cells": [
  {
   "cell_type": "code",
   "execution_count": 1,
   "metadata": {
    "collapsed": false
   },
   "outputs": [],
   "source": [
    "import bs4, urllib, re, pandas as pd, numpy as np"
   ]
  },
  {
   "cell_type": "code",
   "execution_count": 31,
   "metadata": {
    "collapsed": false
   },
   "outputs": [],
   "source": [
    "collection_dir = \"/Users/bradleyallen/Desktop/My Notes - Burroughs Collection/\"\n",
    "index_filename = collection_dir + \"index.html\"\n",
    "items = []\n",
    "unicode_space_ptrn = re.compile('\\xa0')\n",
    "with open(index_filename, encoding='utf-8') as html:\n",
    "    index_soup = bs4.BeautifulSoup(html, 'html.parser')\n",
    "    for link in index_soup.find_all('a'):\n",
    "        filename = collection_dir + urllib.parse.unquote(link.get('href'))\n",
    "        with open(filename, encoding='utf-8') as html:\n",
    "            soup = bs4.BeautifulSoup(html, 'html.parser')\n",
    "            title = re.sub(unicode_space_ptrn, ' ', soup.title.string)\n",
    "            if soup.div.string:\n",
    "                desc = re.sub(unicode_space_ptrn, ' ', soup.div.string)\n",
    "            else:\n",
    "                desc = 'MISSING'\n",
    "            items.append([title, desc, soup.img['src']])\n",
    "collection = pd.DataFrame(items, columns=['Title', 'Description', 'Image'])"
   ]
  },
  {
   "cell_type": "code",
   "execution_count": 32,
   "metadata": {
    "collapsed": false
   },
   "outputs": [],
   "source": [
    "collection[\"Year\"] = collection.Description.str.extract(', (\\d\\d\\d\\d)', expand=True)"
   ]
  },
  {
   "cell_type": "code",
   "execution_count": 33,
   "metadata": {
    "collapsed": false
   },
   "outputs": [],
   "source": [
    "collection[\"Maynard and Miles\"] = collection.Description.str.extract('Maynard and Miles ([A-Z]\\d+[A-Za-z]*)', expand=True)"
   ]
  },
  {
   "cell_type": "code",
   "execution_count": 34,
   "metadata": {
    "collapsed": false
   },
   "outputs": [],
   "source": [
    "collection[\"Schottlaender\"] = collection.Description.str.extract('Schottlaender ([A-Z]\\d+[A-Za-z]*)', expand=True)"
   ]
  },
  {
   "cell_type": "code",
   "execution_count": 35,
   "metadata": {
    "collapsed": false
   },
   "outputs": [],
   "source": [
    "collection = collection[['Title', 'Year', 'Maynard and Miles', 'Schottlaender', 'Description', 'Image']].sort_values(by='Year')"
   ]
  },
  {
   "cell_type": "code",
   "execution_count": 38,
   "metadata": {
    "collapsed": false
   },
   "outputs": [],
   "source": [
    "collection.reset_index(drop=True, inplace=True)"
   ]
  },
  {
   "cell_type": "code",
   "execution_count": 39,
   "metadata": {
    "collapsed": false
   },
   "outputs": [],
   "source": [
    "collection.to_csv('wsb_catalog.csv', index_label=\"ID\")"
   ]
  }
 ],
 "metadata": {
  "kernelspec": {
   "display_name": "Python [conda env:wsbhack]",
   "language": "python",
   "name": "conda-env-wsbhack-py"
  },
  "language_info": {
   "codemirror_mode": {
    "name": "ipython",
    "version": 3
   },
   "file_extension": ".py",
   "mimetype": "text/x-python",
   "name": "python",
   "nbconvert_exporter": "python",
   "pygments_lexer": "ipython3",
   "version": "3.6.2"
  }
 },
 "nbformat": 4,
 "nbformat_minor": 2
}
