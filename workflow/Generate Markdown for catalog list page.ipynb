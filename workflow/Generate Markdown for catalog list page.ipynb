{
 "cells": [
  {
   "cell_type": "code",
   "execution_count": 15,
   "metadata": {
    "collapsed": false
   },
   "outputs": [],
   "source": [
    "import pandas as pd, numpy as np"
   ]
  },
  {
   "cell_type": "code",
   "execution_count": 3,
   "metadata": {
    "collapsed": false
   },
   "outputs": [],
   "source": [
    "collection = pd.read_csv('../wsb-catalog.csv')"
   ]
  },
  {
   "cell_type": "code",
   "execution_count": 4,
   "metadata": {
    "collapsed": true
   },
   "outputs": [],
   "source": [
    "collection = collection.fillna('')"
   ]
  },
  {
   "cell_type": "code",
   "execution_count": 5,
   "metadata": {
    "collapsed": true
   },
   "outputs": [],
   "source": [
    "collection['image'] = collection['identifier'].astype('str').apply(lambda x: 'images/{}.jpg'.format(x)) "
   ]
  },
  {
   "cell_type": "code",
   "execution_count": 19,
   "metadata": {
    "collapsed": false
   },
   "outputs": [],
   "source": [
    "collection['entry'] = np.where(collection['publisher'] == '', 'n.p.', collection['publisher'])\n",
    "collection['entry'] = collection.apply(lambda x: '{}, {}. {}'.format(x['entry'], x['date'], x['description']), axis=1)"
   ]
  },
  {
   "cell_type": "code",
   "execution_count": 21,
   "metadata": {
    "collapsed": false
   },
   "outputs": [
    {
     "data": {
      "text/html": [
       "<div>\n",
       "<style>\n",
       "    .dataframe thead tr:only-child th {\n",
       "        text-align: right;\n",
       "    }\n",
       "\n",
       "    .dataframe thead th {\n",
       "        text-align: left;\n",
       "    }\n",
       "\n",
       "    .dataframe tbody tr th {\n",
       "        vertical-align: top;\n",
       "    }\n",
       "</style>\n",
       "<table border=\"1\" class=\"dataframe\">\n",
       "  <thead>\n",
       "    <tr style=\"text-align: right;\">\n",
       "      <th></th>\n",
       "      <th>creator</th>\n",
       "      <th>title</th>\n",
       "      <th>entry</th>\n",
       "    </tr>\n",
       "  </thead>\n",
       "  <tbody>\n",
       "    <tr>\n",
       "      <th>0</th>\n",
       "      <td>William S. Burroughs</td>\n",
       "      <td>Junkie</td>\n",
       "      <td>New York: Ace Books, Inc., 1953. First. Not as...</td>\n",
       "    </tr>\n",
       "    <tr>\n",
       "      <th>1</th>\n",
       "      <td>William S. Burroughs</td>\n",
       "      <td>Junkie</td>\n",
       "      <td>New York: Ace Books, Inc., 1953. First. Signed...</td>\n",
       "    </tr>\n",
       "    <tr>\n",
       "      <th>2</th>\n",
       "      <td>William S. Burroughs</td>\n",
       "      <td>Junkie</td>\n",
       "      <td>London: Digit Books, 1957. First English. In c...</td>\n",
       "    </tr>\n",
       "    <tr>\n",
       "      <th>3</th>\n",
       "      <td>William S. Burroughs</td>\n",
       "      <td>British Journal of Addiction 53(2)</td>\n",
       "      <td>n.p., 1957. Offprint of Burroughs' article \"Le...</td>\n",
       "    </tr>\n",
       "    <tr>\n",
       "      <th>4</th>\n",
       "      <td>William S. Burroughs</td>\n",
       "      <td>Chicago Review 12(3)</td>\n",
       "      <td>n.p., 1958. Soiled and worn on the spine.</td>\n",
       "    </tr>\n",
       "    <tr>\n",
       "      <th>5</th>\n",
       "      <td>William S. Burroughs</td>\n",
       "      <td>The Naked Lunch</td>\n",
       "      <td>Paris: The Olympia Press, 1959. First. Signed ...</td>\n",
       "    </tr>\n",
       "    <tr>\n",
       "      <th>6</th>\n",
       "      <td>William S. Burroughs</td>\n",
       "      <td>Big Table 1</td>\n",
       "      <td>n.p., 1959.</td>\n",
       "    </tr>\n",
       "    <tr>\n",
       "      <th>7</th>\n",
       "      <td>William S. Burroughs</td>\n",
       "      <td>Big Table 2</td>\n",
       "      <td>n.p., 1959.</td>\n",
       "    </tr>\n",
       "    <tr>\n",
       "      <th>8</th>\n",
       "      <td>William S. Burroughs</td>\n",
       "      <td>The Exterminator</td>\n",
       "      <td>San Francisco: The Auerhahn Press, 1960. First...</td>\n",
       "    </tr>\n",
       "    <tr>\n",
       "      <th>9</th>\n",
       "      <td>William S. Burroughs</td>\n",
       "      <td>The Exterminator</td>\n",
       "      <td>San Francisco: The Auerhahn Press, 1960. First...</td>\n",
       "    </tr>\n",
       "  </tbody>\n",
       "</table>\n",
       "</div>"
      ],
      "text/plain": [
       "                creator                               title  \\\n",
       "0  William S. Burroughs                              Junkie   \n",
       "1  William S. Burroughs                              Junkie   \n",
       "2  William S. Burroughs                              Junkie   \n",
       "3  William S. Burroughs  British Journal of Addiction 53(2)   \n",
       "4  William S. Burroughs                Chicago Review 12(3)   \n",
       "5  William S. Burroughs                     The Naked Lunch   \n",
       "6  William S. Burroughs                         Big Table 1   \n",
       "7  William S. Burroughs                         Big Table 2   \n",
       "8  William S. Burroughs                    The Exterminator   \n",
       "9  William S. Burroughs                    The Exterminator   \n",
       "\n",
       "                                               entry  \n",
       "0  New York: Ace Books, Inc., 1953. First. Not as...  \n",
       "1  New York: Ace Books, Inc., 1953. First. Signed...  \n",
       "2  London: Digit Books, 1957. First English. In c...  \n",
       "3  n.p., 1957. Offprint of Burroughs' article \"Le...  \n",
       "4          n.p., 1958. Soiled and worn on the spine.  \n",
       "5  Paris: The Olympia Press, 1959. First. Signed ...  \n",
       "6                                       n.p., 1959.   \n",
       "7                                       n.p., 1959.   \n",
       "8  San Francisco: The Auerhahn Press, 1960. First...  \n",
       "9  San Francisco: The Auerhahn Press, 1960. First...  "
      ]
     },
     "execution_count": 21,
     "metadata": {},
     "output_type": "execute_result"
    }
   ],
   "source": [
    "collection[['creator', 'title', 'entry']].head(10)"
   ]
  },
  {
   "cell_type": "code",
   "execution_count": 7,
   "metadata": {
    "collapsed": false
   },
   "outputs": [],
   "source": [
    "collection['mdTableRow'] = collection.apply(\n",
    "    lambda x: '|![{}]({})|{}|{}|{}|{}|{}|'.format(x['identifier'],\n",
    "                                                  x['image'],\n",
    "                                                  x['creator'],\n",
    "                                                  x['title'],\n",
    "                                                  x['entry']\n",
    "                              ),\n",
    "    axis=1)"
   ]
  },
  {
   "cell_type": "code",
   "execution_count": 8,
   "metadata": {
    "collapsed": false
   },
   "outputs": [],
   "source": [
    "title = '# William S. Burroughs Collection'"
   ]
  },
  {
   "cell_type": "code",
   "execution_count": 9,
   "metadata": {
    "collapsed": true
   },
   "outputs": [],
   "source": [
    "table_header = ['|image|creator|title|description|',\n",
    "                '|---|---|---|---|']"
   ]
  },
  {
   "cell_type": "code",
   "execution_count": 10,
   "metadata": {
    "collapsed": false
   },
   "outputs": [],
   "source": [
    "table_body = pd.Series(collection['mdTableRow']).tolist()"
   ]
  },
  {
   "cell_type": "code",
   "execution_count": 11,
   "metadata": {
    "collapsed": true
   },
   "outputs": [],
   "source": [
    "table = table_header + table_body"
   ]
  },
  {
   "cell_type": "code",
   "execution_count": 12,
   "metadata": {
    "collapsed": false
   },
   "outputs": [],
   "source": [
    "page = [ title ] + table"
   ]
  },
  {
   "cell_type": "code",
   "execution_count": 13,
   "metadata": {
    "collapsed": false
   },
   "outputs": [],
   "source": [
    "with open('../wsb-catalog.md', 'w') as outfile:\n",
    "    for line in page:\n",
    "        outfile.write(line + '\\n')"
   ]
  },
  {
   "cell_type": "code",
   "execution_count": null,
   "metadata": {
    "collapsed": true
   },
   "outputs": [],
   "source": []
  }
 ],
 "metadata": {
  "kernelspec": {
   "display_name": "Python [conda env:wsbhack]",
   "language": "python",
   "name": "conda-env-wsbhack-py"
  }
 },
 "nbformat": 4,
 "nbformat_minor": 2
}
