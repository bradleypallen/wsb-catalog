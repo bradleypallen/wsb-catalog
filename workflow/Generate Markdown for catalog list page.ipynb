{
 "cells": [
  {
   "cell_type": "code",
   "execution_count": 1,
   "metadata": {
    "collapsed": false
   },
   "outputs": [],
   "source": [
    "import pandas as pd"
   ]
  },
  {
   "cell_type": "code",
   "execution_count": 3,
   "metadata": {
    "collapsed": false
   },
   "outputs": [],
   "source": [
    "collection = pd.read_csv('../wsb-catalog.csv')"
   ]
  },
  {
   "cell_type": "code",
   "execution_count": 7,
   "metadata": {
    "collapsed": true
   },
   "outputs": [],
   "source": [
    "collection['thumbnail'] = collection['identifier'].astype('str').apply(lambda x: '../thumbnails/{}.jpg'.format(x)) "
   ]
  },
  {
   "cell_type": "code",
   "execution_count": 72,
   "metadata": {
    "collapsed": false
   },
   "outputs": [],
   "source": [
    "collection['mdTableRow'] = collection.apply(\n",
    "    lambda x: '|{}|{}|{}|{}|{}|![{}]({}?raw=true)|'.format(x['creator'],\n",
    "                                           x['title'],\n",
    "                                           x['publisher'],\n",
    "                                           x['date'],\n",
    "                                           x['description'],\n",
    "                                           x['title'],\n",
    "                                           x['thumbnail']\n",
    "                              ),\n",
    "    axis=1)"
   ]
  },
  {
   "cell_type": "code",
   "execution_count": 73,
   "metadata": {
    "collapsed": false,
    "scrolled": true
   },
   "outputs": [
    {
     "data": {
      "text/html": [
       "<div>\n",
       "<style>\n",
       "    .dataframe thead tr:only-child th {\n",
       "        text-align: right;\n",
       "    }\n",
       "\n",
       "    .dataframe thead th {\n",
       "        text-align: left;\n",
       "    }\n",
       "\n",
       "    .dataframe tbody tr th {\n",
       "        vertical-align: top;\n",
       "    }\n",
       "</style>\n",
       "<table border=\"1\" class=\"dataframe\">\n",
       "  <thead>\n",
       "    <tr style=\"text-align: right;\">\n",
       "      <th></th>\n",
       "      <th>identifier</th>\n",
       "      <th>creator</th>\n",
       "      <th>title</th>\n",
       "      <th>publisher</th>\n",
       "      <th>date</th>\n",
       "      <th>bibiliographicCitation</th>\n",
       "      <th>description</th>\n",
       "      <th>thumbnail</th>\n",
       "      <th>mdTableRow</th>\n",
       "    </tr>\n",
       "  </thead>\n",
       "  <tbody>\n",
       "    <tr>\n",
       "      <th>284</th>\n",
       "      <td>and-the-hippos-were-boiled-in-1</td>\n",
       "      <td>William S. Burroughs, Jack Kerouac</td>\n",
       "      <td>And The Hippos Were Boiled In Their Tanks</td>\n",
       "      <td>New York: Grove Press</td>\n",
       "      <td>2008</td>\n",
       "      <td>schottlaender/4.0/A81</td>\n",
       "      <td>First.</td>\n",
       "      <td>../thumbnails/and-the-hippos-were-boiled-in-1.jpg</td>\n",
       "      <td>|William S. Burroughs, Jack Kerouac|And The Hi...</td>\n",
       "    </tr>\n",
       "    <tr>\n",
       "      <th>285</th>\n",
       "      <td>cut-ups-cut-ins-cut-outs-th-1</td>\n",
       "      <td>Tim Head, C.A. Howe, Barry Miles, Jon Savage</td>\n",
       "      <td>Cut-ups, Cut-ins, Cut-outs: The Art of WIlliam...</td>\n",
       "      <td>Nürnberg: Verlag für moderne Kunst; Wien: Kuns...</td>\n",
       "      <td>2012</td>\n",
       "      <td>schottlaender/4.0/B29</td>\n",
       "      <td>First.</td>\n",
       "      <td>../thumbnails/cut-ups-cut-ins-cut-outs-th-1.jpg</td>\n",
       "      <td>|Tim Head, C.A. Howe, Barry Miles, Jon Savage|...</td>\n",
       "    </tr>\n",
       "    <tr>\n",
       "      <th>286</th>\n",
       "      <td>rub-out-the-words-the-letters-1</td>\n",
       "      <td>William S. Burroughs</td>\n",
       "      <td>Rub Out The Words: The Letters of WIlliam S. B...</td>\n",
       "      <td>New York: Ecco</td>\n",
       "      <td>2012</td>\n",
       "      <td>schottlaender/4.0/H14</td>\n",
       "      <td>First.</td>\n",
       "      <td>../thumbnails/rub-out-the-words-the-letters-1.jpg</td>\n",
       "      <td>|William S. Burroughs|Rub Out The Words: The L...</td>\n",
       "    </tr>\n",
       "    <tr>\n",
       "      <th>287</th>\n",
       "      <td>taking-shots-the-photography-1</td>\n",
       "      <td>Patricia Allmer, John Sears</td>\n",
       "      <td>Taking Shots: The Photography of William S. Bu...</td>\n",
       "      <td>Munich, DE: Prestel Verlag</td>\n",
       "      <td>2014</td>\n",
       "      <td>schottlaender/4.0/B30</td>\n",
       "      <td>First. Edited by Patricia Allmer and John Sear...</td>\n",
       "      <td>../thumbnails/taking-shots-the-photography-1.jpg</td>\n",
       "      <td>|Patricia Allmer, John Sears|Taking Shots: The...</td>\n",
       "    </tr>\n",
       "    <tr>\n",
       "      <th>288</th>\n",
       "      <td>call-me-burroughs-a-life-1</td>\n",
       "      <td>Barry Miles</td>\n",
       "      <td>Call Me Burroughs: A Life</td>\n",
       "      <td>New York, NY: Hachette Book Group</td>\n",
       "      <td>2014</td>\n",
       "      <td>schottlaender/4.0/H31</td>\n",
       "      <td>First. Barry Miles' biography of Burroughs.</td>\n",
       "      <td>../thumbnails/call-me-burroughs-a-life-1.jpg</td>\n",
       "      <td>|Barry Miles|Call Me Burroughs: A Life|New Yor...</td>\n",
       "    </tr>\n",
       "    <tr>\n",
       "      <th>289</th>\n",
       "      <td>william-s-burroughs-a-collect-1</td>\n",
       "      <td>Eric C. Shoaf</td>\n",
       "      <td>William S. Burroughs A Collector's Guide</td>\n",
       "      <td>Providence, RI: Inkblot; distributed by Afterm...</td>\n",
       "      <td>2014</td>\n",
       "      <td>schottlaender/4.0/I11b</td>\n",
       "      <td>First thus. Softbound.</td>\n",
       "      <td>../thumbnails/william-s-burroughs-a-collect-1.jpg</td>\n",
       "      <td>|Eric C. Shoaf|William S. Burroughs A Collecto...</td>\n",
       "    </tr>\n",
       "    <tr>\n",
       "      <th>290</th>\n",
       "      <td>the-travel-agency-is-on-fire-1</td>\n",
       "      <td>William S. Burroughs</td>\n",
       "      <td>The Travel Agency Is on Fire</td>\n",
       "      <td>New York: The Center for the Humanities, The G...</td>\n",
       "      <td>2015</td>\n",
       "      <td>schottlaender/4.0/A82</td>\n",
       "      <td>First. Alex Wermer-Colan, ed. (Lost and Found:...</td>\n",
       "      <td>../thumbnails/the-travel-agency-is-on-fire-1.jpg</td>\n",
       "      <td>|William S. Burroughs|The Travel Agency Is on ...</td>\n",
       "    </tr>\n",
       "  </tbody>\n",
       "</table>\n",
       "</div>"
      ],
      "text/plain": [
       "                          identifier  \\\n",
       "284  and-the-hippos-were-boiled-in-1   \n",
       "285    cut-ups-cut-ins-cut-outs-th-1   \n",
       "286  rub-out-the-words-the-letters-1   \n",
       "287   taking-shots-the-photography-1   \n",
       "288       call-me-burroughs-a-life-1   \n",
       "289  william-s-burroughs-a-collect-1   \n",
       "290   the-travel-agency-is-on-fire-1   \n",
       "\n",
       "                                          creator  \\\n",
       "284            William S. Burroughs, Jack Kerouac   \n",
       "285  Tim Head, C.A. Howe, Barry Miles, Jon Savage   \n",
       "286                          William S. Burroughs   \n",
       "287                   Patricia Allmer, John Sears   \n",
       "288                                   Barry Miles   \n",
       "289                                 Eric C. Shoaf   \n",
       "290                          William S. Burroughs   \n",
       "\n",
       "                                                 title  \\\n",
       "284          And The Hippos Were Boiled In Their Tanks   \n",
       "285  Cut-ups, Cut-ins, Cut-outs: The Art of WIlliam...   \n",
       "286  Rub Out The Words: The Letters of WIlliam S. B...   \n",
       "287  Taking Shots: The Photography of William S. Bu...   \n",
       "288                          Call Me Burroughs: A Life   \n",
       "289           William S. Burroughs A Collector's Guide   \n",
       "290                       The Travel Agency Is on Fire   \n",
       "\n",
       "                                             publisher  date  \\\n",
       "284                              New York: Grove Press  2008   \n",
       "285  Nürnberg: Verlag für moderne Kunst; Wien: Kuns...  2012   \n",
       "286                                     New York: Ecco  2012   \n",
       "287                         Munich, DE: Prestel Verlag  2014   \n",
       "288                  New York, NY: Hachette Book Group  2014   \n",
       "289  Providence, RI: Inkblot; distributed by Afterm...  2014   \n",
       "290  New York: The Center for the Humanities, The G...  2015   \n",
       "\n",
       "     bibiliographicCitation  \\\n",
       "284   schottlaender/4.0/A81   \n",
       "285   schottlaender/4.0/B29   \n",
       "286   schottlaender/4.0/H14   \n",
       "287   schottlaender/4.0/B30   \n",
       "288   schottlaender/4.0/H31   \n",
       "289  schottlaender/4.0/I11b   \n",
       "290   schottlaender/4.0/A82   \n",
       "\n",
       "                                           description  \\\n",
       "284                                             First.   \n",
       "285                                             First.   \n",
       "286                                             First.   \n",
       "287  First. Edited by Patricia Allmer and John Sear...   \n",
       "288        First. Barry Miles' biography of Burroughs.   \n",
       "289                             First thus. Softbound.   \n",
       "290  First. Alex Wermer-Colan, ed. (Lost and Found:...   \n",
       "\n",
       "                                             thumbnail  \\\n",
       "284  ../thumbnails/and-the-hippos-were-boiled-in-1.jpg   \n",
       "285    ../thumbnails/cut-ups-cut-ins-cut-outs-th-1.jpg   \n",
       "286  ../thumbnails/rub-out-the-words-the-letters-1.jpg   \n",
       "287   ../thumbnails/taking-shots-the-photography-1.jpg   \n",
       "288       ../thumbnails/call-me-burroughs-a-life-1.jpg   \n",
       "289  ../thumbnails/william-s-burroughs-a-collect-1.jpg   \n",
       "290   ../thumbnails/the-travel-agency-is-on-fire-1.jpg   \n",
       "\n",
       "                                            mdTableRow  \n",
       "284  |William S. Burroughs, Jack Kerouac|And The Hi...  \n",
       "285  |Tim Head, C.A. Howe, Barry Miles, Jon Savage|...  \n",
       "286  |William S. Burroughs|Rub Out The Words: The L...  \n",
       "287  |Patricia Allmer, John Sears|Taking Shots: The...  \n",
       "288  |Barry Miles|Call Me Burroughs: A Life|New Yor...  \n",
       "289  |Eric C. Shoaf|William S. Burroughs A Collecto...  \n",
       "290  |William S. Burroughs|The Travel Agency Is on ...  "
      ]
     },
     "execution_count": 73,
     "metadata": {},
     "output_type": "execute_result"
    }
   ],
   "source": [
    "collection.tail(7)"
   ]
  },
  {
   "cell_type": "code",
   "execution_count": 79,
   "metadata": {
    "collapsed": false
   },
   "outputs": [],
   "source": [
    "title = '# William S. Burroughs Collection'"
   ]
  },
  {
   "cell_type": "code",
   "execution_count": 75,
   "metadata": {
    "collapsed": true
   },
   "outputs": [],
   "source": [
    "table_header = ['|creator|title|publisher|date|description|image|',\n",
    "                '|---|---|---|---|---|---|']"
   ]
  },
  {
   "cell_type": "code",
   "execution_count": 76,
   "metadata": {
    "collapsed": false
   },
   "outputs": [],
   "source": [
    "table_body = pd.Series(collection['mdTableRow']).tolist()"
   ]
  },
  {
   "cell_type": "code",
   "execution_count": 77,
   "metadata": {
    "collapsed": true
   },
   "outputs": [],
   "source": [
    "table = table_header + table_body"
   ]
  },
  {
   "cell_type": "code",
   "execution_count": 80,
   "metadata": {
    "collapsed": false
   },
   "outputs": [],
   "source": [
    "page = [ title ] + table"
   ]
  },
  {
   "cell_type": "code",
   "execution_count": 82,
   "metadata": {
    "collapsed": false
   },
   "outputs": [],
   "source": [
    "with open('../wsb-catalog.md', 'w') as outfile:\n",
    "    for line in page:\n",
    "        outfile.write(line + '\\n')"
   ]
  }
 ],
 "metadata": {
  "kernelspec": {
   "display_name": "Python [conda env:wsbhack]",
   "language": "python",
   "name": "conda-env-wsbhack-py"
  },
  "language_info": {
   "codemirror_mode": {
    "name": "ipython",
    "version": 3
   },
   "file_extension": ".py",
   "mimetype": "text/x-python",
   "name": "python",
   "nbconvert_exporter": "python",
   "pygments_lexer": "ipython3",
   "version": "3.6.2"
  }
 },
 "nbformat": 4,
 "nbformat_minor": 2
}
