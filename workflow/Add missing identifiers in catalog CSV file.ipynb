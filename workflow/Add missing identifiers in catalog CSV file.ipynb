{
 "cells": [
  {
   "cell_type": "code",
   "execution_count": 1,
   "metadata": {
    "collapsed": true
   },
   "outputs": [],
   "source": [
    "import pandas as pd\n",
    "from slugify import slugify"
   ]
  },
  {
   "cell_type": "code",
   "execution_count": 2,
   "metadata": {
    "collapsed": true
   },
   "outputs": [],
   "source": [
    "collection = pd.read_csv('../data/wsb-catalog.csv')"
   ]
  },
  {
   "cell_type": "code",
   "execution_count": 3,
   "metadata": {
    "collapsed": true
   },
   "outputs": [],
   "source": [
    "collection = collection.fillna('')"
   ]
  },
  {
   "cell_type": "code",
   "execution_count": 4,
   "metadata": {},
   "outputs": [],
   "source": [
    "ids = collection['identifier'].tolist()\n",
    "titles = collection['title'].tolist()\n",
    "new_ids = []\n",
    "for idx, id in enumerate(ids):\n",
    "    if id == '':\n",
    "        i = 1\n",
    "        slug = slugify('{:.30}'.format(titles[idx]))\n",
    "        new_id = '{}-{:d}'.format(slug, i)\n",
    "        while new_id in ids:\n",
    "            i += 1\n",
    "            new_id = '{}-{:d}'.format(slug, i)\n",
    "        new_ids.append(new_id)\n",
    "        print('Added new identifier:', new_id)\n",
    "    else:\n",
    "        new_ids.append(id)\n",
    "collection[\"identifier\"] = pd.Series(new_ids).values"
   ]
  },
  {
   "cell_type": "code",
   "execution_count": 5,
   "metadata": {
    "collapsed": true
   },
   "outputs": [],
   "source": [
    "collection.to_csv('../data/wsb-catalog.csv', index=False)"
   ]
  }
 ],
 "metadata": {
  "kernelspec": {
   "display_name": "Python [conda env:wsbhack]",
   "language": "python",
   "name": "conda-env-wsbhack-py"
  },
  "language_info": {
   "codemirror_mode": {
    "name": "ipython",
    "version": 3
   },
   "file_extension": ".py",
   "mimetype": "text/x-python",
   "name": "python",
   "nbconvert_exporter": "python",
   "pygments_lexer": "ipython3",
   "version": "3.6.2"
  }
 },
 "nbformat": 4,
 "nbformat_minor": 2
}
