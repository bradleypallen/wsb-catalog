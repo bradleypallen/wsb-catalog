{
 "cells": [
  {
   "cell_type": "code",
   "execution_count": 1,
   "metadata": {},
   "outputs": [],
   "source": [
    "import re, pandas as pd, numpy as np"
   ]
  },
  {
   "cell_type": "code",
   "execution_count": 2,
   "metadata": {},
   "outputs": [],
   "source": [
    "collection = pd.read_csv('../wsb-catalog.csv')"
   ]
  },
  {
   "cell_type": "code",
   "execution_count": 3,
   "metadata": {},
   "outputs": [],
   "source": [
    "def format_bibliographicCitation(cite):\n",
    "    names = { 'schottlaender/4.0/': 'Schottlaender ', 'maynard-and-miles/': 'Maynard & Miles ', 'shoaf/': 'Shoaf ' }\n",
    "    formatted_cite = []\n",
    "    for prefix in names:\n",
    "        p = re.compile(prefix + '([A-Z]\\d+\\w*)')\n",
    "        numbers = p.findall(cite)\n",
    "        if numbers:\n",
    "            if len(numbers) > 2:\n",
    "                formatted_cite.append(names[prefix] + ', '.join(numbers[:-1]) + ', and {}'.format(numbers[-1]))\n",
    "            elif len(numbers) == 2:\n",
    "                formatted_cite.append(names[prefix] + ' and '.join(numbers))\n",
    "            else:\n",
    "                formatted_cite.append(names[prefix] + numbers[0])\n",
    "    if not formatted_cite:\n",
    "        return ''\n",
    "    else:\n",
    "        return ', '.join(formatted_cite) + '.'"
   ]
  },
  {
   "cell_type": "code",
   "execution_count": 4,
   "metadata": {
    "collapsed": true
   },
   "outputs": [],
   "source": [
    "collection = collection.fillna('')"
   ]
  },
  {
   "cell_type": "code",
   "execution_count": 5,
   "metadata": {
    "collapsed": true
   },
   "outputs": [],
   "source": [
    "collection['image'] = collection['identifier'].astype('str').apply(lambda x: 'thumbnails/{}.jpg'.format(x)) "
   ]
  },
  {
   "cell_type": "code",
   "execution_count": 6,
   "metadata": {},
   "outputs": [],
   "source": [
    "collection['bibliographicCitation'] = collection['bibliographicCitation'].astype('str').apply(lambda x: format_bibliographicCitation(x)) "
   ]
  },
  {
   "cell_type": "code",
   "execution_count": 7,
   "metadata": {},
   "outputs": [],
   "source": [
    "collection['entry'] = np.where(collection['publisher'] == '', 'n.p.', collection['publisher'])\n",
    "collection['entry'] = collection.apply(lambda x: '{}, {}. {} {}'.format(x['entry'], x['date'], x['description'], x['bibliographicCitation']), axis=1)"
   ]
  },
  {
   "cell_type": "code",
   "execution_count": 8,
   "metadata": {},
   "outputs": [],
   "source": [
    "collection['mdTableRow'] = collection.apply(\n",
    "    lambda x: '|![{}]({})|{}|{}|{}|'.format(x['identifier'], x['image'], x['creator'], x['title'], x['entry']),\n",
    "    axis=1)"
   ]
  },
  {
   "cell_type": "code",
   "execution_count": 9,
   "metadata": {
    "collapsed": true
   },
   "outputs": [],
   "source": [
    "table_header = ['|image|creator|title|description|',\n",
    "                '|---|---|---|---|']"
   ]
  },
  {
   "cell_type": "code",
   "execution_count": 10,
   "metadata": {},
   "outputs": [],
   "source": [
    "table_body = pd.Series(collection['mdTableRow']).tolist()"
   ]
  },
  {
   "cell_type": "code",
   "execution_count": 11,
   "metadata": {
    "collapsed": true
   },
   "outputs": [],
   "source": [
    "table = table_header + table_body"
   ]
  },
  {
   "cell_type": "code",
   "execution_count": 12,
   "metadata": {},
   "outputs": [],
   "source": [
    "with open('../docs/index.md', 'w') as outfile:\n",
    "    for line in table:\n",
    "        outfile.write(line + '\\n')"
   ]
  }
 ],
 "metadata": {
  "kernelspec": {
   "display_name": "Python [conda env:wsbhack]",
   "language": "python",
   "name": "conda-env-wsbhack-py"
  },
  "language_info": {
   "codemirror_mode": {
    "name": "ipython",
    "version": 3
   },
   "file_extension": ".py",
   "mimetype": "text/x-python",
   "name": "python",
   "nbconvert_exporter": "python",
   "pygments_lexer": "ipython3",
   "version": "3.6.2"
  }
 },
 "nbformat": 4,
 "nbformat_minor": 2
}
